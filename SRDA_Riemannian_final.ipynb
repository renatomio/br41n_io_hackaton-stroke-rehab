{
  "nbformat": 4,
  "nbformat_minor": 0,
  "metadata": {
    "colab": {
      "provenance": []
    },
    "kernelspec": {
      "name": "python3",
      "display_name": "Python 3"
    },
    "language_info": {
      "name": "python"
    }
  },
  "cells": [
    {
      "cell_type": "code",
      "execution_count": 205,
      "metadata": {
        "colab": {
          "base_uri": "https://localhost:8080/"
        },
        "id": "SM3B_FDxeGjC",
        "outputId": "0cdd5c6f-0fc4-4e62-f330-ee88c8179f88"
      },
      "outputs": [
        {
          "output_type": "stream",
          "name": "stderr",
          "text": [
            "Downloading...\n",
            "From (original): https://drive.google.com/uc?id=1XK_jSNNtkNCpR6-ygnQAhxsaBoe_gSxy\n",
            "From (redirected): https://drive.google.com/uc?id=1XK_jSNNtkNCpR6-ygnQAhxsaBoe_gSxy&confirm=t&uuid=9d0b5b81-b999-4a9e-bdab-1008d2c04739\n",
            "To: /content/eeg_data.mat\n",
            "100%|██████████| 14.5M/14.5M [00:00<00:00, 57.3MB/s]\n",
            "Downloading...\n",
            "From (original): https://drive.google.com/uc?id=1XIudGXs_j_KLB_8V4b9lgKPXve0l9jJ5\n",
            "From (redirected): https://drive.google.com/uc?id=1XIudGXs_j_KLB_8V4b9lgKPXve0l9jJ5&confirm=t&uuid=0c60148f-c2bc-40e9-a9d5-57f1d1db5fc7\n",
            "To: /content/eeg_data.mat\n",
            "100%|██████████| 14.4M/14.4M [00:00<00:00, 43.1MB/s]\n"
          ]
        }
      ],
      "source": [
        "import gdown\n",
        "import scipy.io\n",
        "import numpy as np\n",
        "\n",
        "file_id = \"1XK_jSNNtkNCpR6-ygnQAhxsaBoe_gSxy\"\n",
        "url = f\"https://drive.google.com/uc?id={file_id}\"\n",
        "output = \"eeg_data.mat\"\n",
        "gdown.download(url, output, quiet=False)\n",
        "\n",
        "#loading the train file\n",
        "train = scipy.io.loadmat(output)\n",
        "\n",
        "# print(\"MAT keys:\", mat.keys())\n",
        "\n",
        "file_id = \"1XIudGXs_j_KLB_8V4b9lgKPXve0l9jJ5\"\n",
        "url = f\"https://drive.google.com/uc?id={file_id}\"\n",
        "output_file = \"eeg_data.mat\"\n",
        "gdown.download(url, output_file, quiet=False)\n",
        "\n",
        "# loading the test file\n",
        "test = scipy.io.loadmat(output_file)\n",
        "# print(\"Keys in .mat file:\", mat.keys())\n"
      ]
    },
    {
      "cell_type": "code",
      "source": [
        "train"
      ],
      "metadata": {
        "colab": {
          "base_uri": "https://localhost:8080/"
        },
        "id": "CxXzW-Oqs5X_",
        "outputId": "ce6ff672-1cae-49f5-94b1-6a2013866679"
      },
      "execution_count": 206,
      "outputs": [
        {
          "output_type": "execute_result",
          "data": {
            "text/plain": [
              "{'__header__': b'MATLAB 5.0 MAT-file, Platform: PCWIN64, Created on: Mon Oct 12 13:45:36 2020',\n",
              " '__version__': '1.0',\n",
              " '__globals__': [],\n",
              " 'fs': array([[256]], dtype=uint16),\n",
              " 'trig': array([[ 0],\n",
              "        [ 0],\n",
              "        [ 0],\n",
              "        ...,\n",
              "        [-1],\n",
              "        [-1],\n",
              "        [-1]], dtype=int16),\n",
              " 'y': array([[ 3.26827301e+02,  1.53989304e+02,  5.99201775e+01, ...,\n",
              "          4.27079010e+02,  2.03007690e+02,  1.00998550e+02],\n",
              "        [ 9.38830957e+03,  1.04189902e+04,  1.12646777e+03, ...,\n",
              "         -1.83466272e+03,  1.02939171e+02, -1.69995837e+03],\n",
              "        [-1.57571497e+03, -1.99006128e+03, -4.02767700e+02, ...,\n",
              "          6.34901550e+02,  1.46847839e+02,  3.57204712e+02],\n",
              "        ...,\n",
              "        [-8.90913582e+00, -5.74011803e+01, -1.84253960e+01, ...,\n",
              "         -8.97530594e+01, -4.57585716e+01, -6.61705399e+01],\n",
              "        [-6.31855507e+01, -6.80609741e+01, -1.92778454e+01, ...,\n",
              "         -8.74048996e+01, -4.37283249e+01, -9.39249649e+01],\n",
              "        [-3.03183117e+01, -2.88373718e+01,  1.90799122e+01, ...,\n",
              "         -8.59333496e+01, -4.40535126e+01, -6.11860619e+01]])}"
            ]
          },
          "metadata": {},
          "execution_count": 206
        }
      ]
    },
    {
      "cell_type": "code",
      "source": [
        "y_train = train['y']\n",
        "trig_train=train['trig']\n",
        "\n",
        "y_test = test['y']\n",
        "trig_test=test['trig']\n"
      ],
      "metadata": {
        "id": "_4AwM-ZXwgSj"
      },
      "execution_count": 207,
      "outputs": []
    },
    {
      "cell_type": "code",
      "source": [
        "np.shape(y_train)"
      ],
      "metadata": {
        "colab": {
          "base_uri": "https://localhost:8080/"
        },
        "id": "p-2UZqeMtaw2",
        "outputId": "30f9ded2-7180-412a-bc24-8bae34f8700a"
      },
      "execution_count": 208,
      "outputs": [
        {
          "output_type": "execute_result",
          "data": {
            "text/plain": [
              "(205536, 16)"
            ]
          },
          "metadata": {},
          "execution_count": 208
        }
      ]
    },
    {
      "cell_type": "code",
      "source": [
        "np.shape(y_test)"
      ],
      "metadata": {
        "colab": {
          "base_uri": "https://localhost:8080/"
        },
        "id": "fF3F9apmtg39",
        "outputId": "4eab60e3-7e0f-4ae3-aadd-3239beb61271"
      },
      "execution_count": 209,
      "outputs": [
        {
          "output_type": "execute_result",
          "data": {
            "text/plain": [
              "(199552, 16)"
            ]
          },
          "metadata": {},
          "execution_count": 209
        }
      ]
    },
    {
      "cell_type": "code",
      "source": [
        "import numpy as np\n",
        "\n",
        "def segment_trials(train_y: np.ndarray, train_trig: np.ndarray):\n",
        "    flat_trig = train_trig[:, 0]\n",
        "\n",
        "    segments = []\n",
        "    labels = []\n",
        "\n",
        "    i = 0\n",
        "    N = flat_trig.shape[0]\n",
        "    while i < N:\n",
        "        if flat_trig[i] == 0:\n",
        "            i += 1\n",
        "            continue\n",
        "\n",
        "        current_label = int(flat_trig[i])\n",
        "        start = i\n",
        "        # consume until it changes\n",
        "        while i < N and flat_trig[i] == current_label:\n",
        "            i += 1\n",
        "        end = i\n",
        "        # slice out the corresponding rows of train_y\n",
        "        segments.append(train_y[start:end, :])\n",
        "        labels.append(current_label)\n",
        "\n",
        "    return segments, labels\n",
        "\n",
        "# segments, labels = segment_trials(y_train, trig_train)\n",
        "# for seg, lbl in zip(segments, labels):\n",
        "#     print(f\"Segment of {seg.shape[0]} samples, label = {lbl}\")\n"
      ],
      "metadata": {
        "id": "B3OS_fs32eCe"
      },
      "execution_count": 210,
      "outputs": []
    },
    {
      "cell_type": "code",
      "source": [
        "y_train, trig_train = segment_trials(y_train, trig_train)\n",
        "y_test, trig_test = segment_trials(y_test, trig_test)"
      ],
      "metadata": {
        "id": "rhQSSjrs2u2h"
      },
      "execution_count": 211,
      "outputs": []
    },
    {
      "cell_type": "code",
      "source": [
        "np.shape(y_train)"
      ],
      "metadata": {
        "colab": {
          "base_uri": "https://localhost:8080/"
        },
        "id": "3kr7M2zFtnN-",
        "outputId": "11797f53-4095-4577-9444-903f10e27e6e"
      },
      "execution_count": 212,
      "outputs": [
        {
          "output_type": "execute_result",
          "data": {
            "text/plain": [
              "(80, 2048, 16)"
            ]
          },
          "metadata": {},
          "execution_count": 212
        }
      ]
    },
    {
      "cell_type": "code",
      "source": [
        "y_train=np.array(y_train)\n",
        "y_test=np.array(y_test)\n",
        "trig_train=np.array(trig_train)\n",
        "trig_test=np.array(trig_test)"
      ],
      "metadata": {
        "id": "XN74pLn6-Irk"
      },
      "execution_count": 213,
      "outputs": []
    },
    {
      "cell_type": "code",
      "source": [
        "len(trig_test)"
      ],
      "metadata": {
        "colab": {
          "base_uri": "https://localhost:8080/"
        },
        "id": "eclcLPss4uMt",
        "outputId": "0b30fda1-8050-4114-fefa-1ad7fcd34da2"
      },
      "execution_count": 214,
      "outputs": [
        {
          "output_type": "execute_result",
          "data": {
            "text/plain": [
              "80"
            ]
          },
          "metadata": {},
          "execution_count": 214
        }
      ]
    },
    {
      "cell_type": "code",
      "source": [
        "np.shape(y_train)"
      ],
      "metadata": {
        "colab": {
          "base_uri": "https://localhost:8080/"
        },
        "id": "ZdKP115w5jWa",
        "outputId": "d0bb956a-1c51-4eff-e776-0a72a5209062"
      },
      "execution_count": 215,
      "outputs": [
        {
          "output_type": "execute_result",
          "data": {
            "text/plain": [
              "(80, 2048, 16)"
            ]
          },
          "metadata": {},
          "execution_count": 215
        }
      ]
    },
    {
      "cell_type": "code",
      "source": [
        "from scipy.signal import butter, filtfilt\n",
        "y_train = y_train.transpose(0, 2, 1)  # (epochs, channels, samples)\n",
        "y_test = y_test.transpose(0, 2, 1)  # (epochs, channels, samples)\n",
        "def bandpass_filter(data, lowcut, highcut, fs, order=4):\n",
        "    nyquist = 0.5 * fs\n",
        "    low = lowcut / nyquist\n",
        "    high = highcut / nyquist\n",
        "    b, a = butter(order, [low, high], btype='band')\n",
        "    return filtfilt(b, a, data, axis=-1)\n",
        "\n",
        "# Applying BPF: 8-30 Hz\n",
        "fs = 256  # Hz\n",
        "lowcut = 8\n",
        "highcut = 30\n",
        "y_train= bandpass_filter(y_train, lowcut, highcut, fs)\n",
        "y_test= bandpass_filter(y_test, lowcut, highcut, fs)"
      ],
      "metadata": {
        "id": "mmghaM_v-DxJ"
      },
      "execution_count": 216,
      "outputs": []
    },
    {
      "cell_type": "code",
      "source": [
        "from sklearn.preprocessing import StandardScaler\n",
        "\n",
        "# Flatten for normalization if needed\n",
        "y_train_flat = y_train.reshape((y_train.shape[0], -1))\n",
        "y_test_flat = y_test.reshape((y_test.shape[0], -1))\n",
        "\n",
        "# Fit scaler on training data and transform both train and test\n",
        "scaler = StandardScaler()\n",
        "y_train_normalized = scaler.fit_transform(y_train_flat)\n",
        "y_test_normalized = scaler.transform(y_test_flat)\n",
        "\n",
        "# Reshape back to original shape\n",
        "y_train = y_train_normalized.reshape(y_train.shape)\n",
        "y_test = y_test_normalized.reshape(y_test.shape)\n"
      ],
      "metadata": {
        "id": "d4ewwc5LT5yB"
      },
      "execution_count": 217,
      "outputs": []
    },
    {
      "cell_type": "code",
      "source": [
        "def compute_spd_matrices(eeg_data):\n",
        "\n",
        "    epochs, channels, samples = eeg_data.shape\n",
        "    spd_matrices = np.zeros((epochs, channels, channels))\n",
        "\n",
        "    for i in range(epochs):\n",
        "        epoch = eeg_data[i]  # shape (channels, samples)\n",
        "        cov_matrix = np.cov(epoch)  # shape (channels, channels)\n",
        "        # Optional: ensure SPD by adding a small regularization term to the diagonal\n",
        "        cov_matrix += 1e-6 * np.eye(channels)\n",
        "        spd_matrices[i] = cov_matrix\n",
        "\n",
        "    return spd_matrices\n",
        "\n",
        "# Example usage:\n",
        "y_train_spd = compute_spd_matrices(y_train)\n",
        "y_test_spd = compute_spd_matrices(y_test)\n"
      ],
      "metadata": {
        "id": "kfw7Z7fmC6SE"
      },
      "execution_count": 218,
      "outputs": []
    },
    {
      "cell_type": "code",
      "source": [
        "np.shape(y_train_spd)"
      ],
      "metadata": {
        "colab": {
          "base_uri": "https://localhost:8080/"
        },
        "id": "8m6mcDR4E_MQ",
        "outputId": "83bd4074-e938-46bf-b077-d188ab9ef52d"
      },
      "execution_count": 219,
      "outputs": [
        {
          "output_type": "execute_result",
          "data": {
            "text/plain": [
              "(80, 16, 16)"
            ]
          },
          "metadata": {},
          "execution_count": 219
        }
      ]
    },
    {
      "cell_type": "code",
      "source": [
        "from pyriemann.tangentspace import TangentSpace\n",
        "from sklearn.discriminant_analysis import LinearDiscriminantAnalysis as LDA\n",
        "from sklearn.pipeline import make_pipeline\n",
        "from sklearn.metrics import accuracy_score, classification_report\n",
        "\n",
        "# Tangent space mapping\n",
        "ts = TangentSpace(metric='riemann')\n",
        "\n",
        "# Fit TangentSpace mapper to training SPD matrices and transform both sets\n",
        "X_train_tangent = ts.fit_transform(y_train_spd)\n",
        "X_test_tangent = ts.transform(y_test_spd)\n",
        "\n",
        "# Use LDA for classification\n",
        "lda = LDA()\n",
        "lda.fit(X_train_tangent, trig_train)\n",
        "\n",
        "# Predict and evaluate\n",
        "y_pred = lda.predict(X_test_tangent)\n",
        "acc = accuracy_score(trig_test, y_pred)\n",
        "\n",
        "print(f\"Tangent space + LDA accuracy: {acc:.4f}\")\n",
        "print(classification_report(trig_test, y_pred))\n"
      ],
      "metadata": {
        "colab": {
          "base_uri": "https://localhost:8080/"
        },
        "id": "ydpWkPT-FarC",
        "outputId": "92dc93d5-9513-460c-81d6-39bad7b4a168"
      },
      "execution_count": 222,
      "outputs": [
        {
          "output_type": "stream",
          "name": "stdout",
          "text": [
            "Tangent space + LDA accuracy: 0.5750\n",
            "              precision    recall  f1-score   support\n",
            "\n",
            "          -1       0.80      0.20      0.32        40\n",
            "           1       0.54      0.95      0.69        40\n",
            "\n",
            "    accuracy                           0.57        80\n",
            "   macro avg       0.67      0.57      0.51        80\n",
            "weighted avg       0.67      0.57      0.51        80\n",
            "\n"
          ]
        }
      ]
    },
    {
      "cell_type": "code",
      "source": [
        "from sklearn.discriminant_analysis import LinearDiscriminantAnalysis\n",
        "from sklearn.model_selection import GridSearchCV\n",
        "\n",
        "# Define LDA and param grid\n",
        "lda = LinearDiscriminantAnalysis()\n",
        "param_grid = {\n",
        "    'solver': ['svd', 'lsqr', 'eigen'],\n",
        "    'shrinkage': [None, 'auto'],\n",
        "}\n",
        "\n",
        "# Grid Search\n",
        "lda_search = GridSearchCV(lda, param_grid, cv=5, scoring='accuracy')\n",
        "lda_search.fit(X_train_tangent, trig_train)\n",
        "\n",
        "# Results\n",
        "print(\"Best LDA parameters:\", lda_search.best_params_)\n",
        "print(f\"Best Cross-Val Accuracy: {lda_search.best_score_:.4f}\")\n",
        "\n",
        "# Evaluate on test set\n",
        "best_lda = lda_search.best_estimator_\n",
        "y_pred = best_lda.predict(X_test_tangent)\n",
        "\n",
        "from sklearn.metrics import accuracy_score, classification_report\n",
        "print(f\"Test Accuracy: {accuracy_score(trig_test, y_pred):.4f}\")\n",
        "print(classification_report(trig_test, y_pred))\n"
      ],
      "metadata": {
        "colab": {
          "base_uri": "https://localhost:8080/"
        },
        "id": "LXS7ss_7L9GI",
        "outputId": "cf2c1958-95f8-48e7-acb8-ffe3caf00388"
      },
      "execution_count": 223,
      "outputs": [
        {
          "output_type": "stream",
          "name": "stdout",
          "text": [
            "Best LDA parameters: {'shrinkage': 'auto', 'solver': 'lsqr'}\n",
            "Best Cross-Val Accuracy: 0.9000\n",
            "Test Accuracy: 0.5000\n",
            "              precision    recall  f1-score   support\n",
            "\n",
            "          -1       0.50      1.00      0.67        40\n",
            "           1       0.00      0.00      0.00        40\n",
            "\n",
            "    accuracy                           0.50        80\n",
            "   macro avg       0.25      0.50      0.33        80\n",
            "weighted avg       0.25      0.50      0.33        80\n",
            "\n"
          ]
        },
        {
          "output_type": "stream",
          "name": "stderr",
          "text": [
            "/usr/local/lib/python3.11/dist-packages/sklearn/model_selection/_validation.py:528: FitFailedWarning: \n",
            "10 fits failed out of a total of 30.\n",
            "The score on these train-test partitions for these parameters will be set to nan.\n",
            "If these failures are not expected, you can try to debug them by setting error_score='raise'.\n",
            "\n",
            "Below are more details about the failures:\n",
            "--------------------------------------------------------------------------------\n",
            "3 fits failed with the following error:\n",
            "Traceback (most recent call last):\n",
            "  File \"/usr/local/lib/python3.11/dist-packages/sklearn/model_selection/_validation.py\", line 866, in _fit_and_score\n",
            "    estimator.fit(X_train, y_train, **fit_params)\n",
            "  File \"/usr/local/lib/python3.11/dist-packages/sklearn/base.py\", line 1389, in wrapper\n",
            "    return fit_method(estimator, *args, **kwargs)\n",
            "           ^^^^^^^^^^^^^^^^^^^^^^^^^^^^^^^^^^^^^^\n",
            "  File \"/usr/local/lib/python3.11/dist-packages/sklearn/discriminant_analysis.py\", line 716, in fit\n",
            "    self._solve_eigen(\n",
            "  File \"/usr/local/lib/python3.11/dist-packages/sklearn/discriminant_analysis.py\", line 549, in _solve_eigen\n",
            "    evals, evecs = linalg.eigh(Sb, Sw)\n",
            "                   ^^^^^^^^^^^^^^^^^^^\n",
            "  File \"/usr/local/lib/python3.11/dist-packages/scipy/linalg/_decomp.py\", line 592, in eigh\n",
            "    raise LinAlgError(f'The leading minor of order {info-n} of B is not '\n",
            "numpy.linalg.LinAlgError: The leading minor of order 63 of B is not positive definite. The factorization of B could not be completed and no eigenvalues or eigenvectors were computed.\n",
            "\n",
            "--------------------------------------------------------------------------------\n",
            "2 fits failed with the following error:\n",
            "Traceback (most recent call last):\n",
            "  File \"/usr/local/lib/python3.11/dist-packages/sklearn/model_selection/_validation.py\", line 866, in _fit_and_score\n",
            "    estimator.fit(X_train, y_train, **fit_params)\n",
            "  File \"/usr/local/lib/python3.11/dist-packages/sklearn/base.py\", line 1389, in wrapper\n",
            "    return fit_method(estimator, *args, **kwargs)\n",
            "           ^^^^^^^^^^^^^^^^^^^^^^^^^^^^^^^^^^^^^^\n",
            "  File \"/usr/local/lib/python3.11/dist-packages/sklearn/discriminant_analysis.py\", line 716, in fit\n",
            "    self._solve_eigen(\n",
            "  File \"/usr/local/lib/python3.11/dist-packages/sklearn/discriminant_analysis.py\", line 549, in _solve_eigen\n",
            "    evals, evecs = linalg.eigh(Sb, Sw)\n",
            "                   ^^^^^^^^^^^^^^^^^^^\n",
            "  File \"/usr/local/lib/python3.11/dist-packages/scipy/linalg/_decomp.py\", line 592, in eigh\n",
            "    raise LinAlgError(f'The leading minor of order {info-n} of B is not '\n",
            "numpy.linalg.LinAlgError: The leading minor of order 64 of B is not positive definite. The factorization of B could not be completed and no eigenvalues or eigenvectors were computed.\n",
            "\n",
            "--------------------------------------------------------------------------------\n",
            "5 fits failed with the following error:\n",
            "Traceback (most recent call last):\n",
            "  File \"/usr/local/lib/python3.11/dist-packages/sklearn/model_selection/_validation.py\", line 866, in _fit_and_score\n",
            "    estimator.fit(X_train, y_train, **fit_params)\n",
            "  File \"/usr/local/lib/python3.11/dist-packages/sklearn/base.py\", line 1389, in wrapper\n",
            "    return fit_method(estimator, *args, **kwargs)\n",
            "           ^^^^^^^^^^^^^^^^^^^^^^^^^^^^^^^^^^^^^^\n",
            "  File \"/usr/local/lib/python3.11/dist-packages/sklearn/discriminant_analysis.py\", line 700, in fit\n",
            "    raise NotImplementedError(\"shrinkage not supported with 'svd' solver.\")\n",
            "NotImplementedError: shrinkage not supported with 'svd' solver.\n",
            "\n",
            "  warnings.warn(some_fits_failed_message, FitFailedWarning)\n",
            "/usr/local/lib/python3.11/dist-packages/sklearn/model_selection/_search.py:1108: UserWarning: One or more of the test scores are non-finite: [0.8625 0.8625    nan    nan 0.9    0.9   ]\n",
            "  warnings.warn(\n",
            "/usr/local/lib/python3.11/dist-packages/sklearn/metrics/_classification.py:1565: UndefinedMetricWarning: Precision is ill-defined and being set to 0.0 in labels with no predicted samples. Use `zero_division` parameter to control this behavior.\n",
            "  _warn_prf(average, modifier, f\"{metric.capitalize()} is\", len(result))\n",
            "/usr/local/lib/python3.11/dist-packages/sklearn/metrics/_classification.py:1565: UndefinedMetricWarning: Precision is ill-defined and being set to 0.0 in labels with no predicted samples. Use `zero_division` parameter to control this behavior.\n",
            "  _warn_prf(average, modifier, f\"{metric.capitalize()} is\", len(result))\n",
            "/usr/local/lib/python3.11/dist-packages/sklearn/metrics/_classification.py:1565: UndefinedMetricWarning: Precision is ill-defined and being set to 0.0 in labels with no predicted samples. Use `zero_division` parameter to control this behavior.\n",
            "  _warn_prf(average, modifier, f\"{metric.capitalize()} is\", len(result))\n"
          ]
        }
      ]
    },
    {
      "cell_type": "code",
      "source": [
        "from sklearn.ensemble import RandomForestClassifier\n",
        "from sklearn.metrics import accuracy_score, classification_report\n",
        "from sklearn.model_selection import GridSearchCV\n",
        "\n",
        "param_grid = {\n",
        "    'n_estimators': [100, 200, 300],\n",
        "    'max_depth': [None, 10, 20, 30],\n",
        "    'min_samples_split': [2, 5, 10],\n",
        "    'min_samples_leaf': [1, 2, 4],\n",
        "    'bootstrap': [True, False]\n",
        "}\n",
        "\n",
        "rf = RandomForestClassifier(random_state=42)\n",
        "grid_search = GridSearchCV(estimator=rf,\n",
        "                           param_grid=param_grid,\n",
        "                           cv=5,\n",
        "                           scoring='accuracy',\n",
        "                           n_jobs=-1,\n",
        "                           verbose=2)\n",
        "\n",
        "grid_search.fit(X_train_tangent, trig_train)\n",
        "\n",
        "print(\"Best Parameters:\", grid_search.best_params_)\n",
        "print(f\"Best Cross-Val Accuracy: {grid_search.best_score_:.4f}\")\n",
        "\n",
        "best_rf = grid_search.best_estimator_\n",
        "y_pred = best_rf.predict(X_test_tangent)\n",
        "\n",
        "print(f\"Test Accuracy: {accuracy_score(trig_test, y_pred):.4f}\")\n",
        "print(classification_report(trig_test, y_pred))\n"
      ],
      "metadata": {
        "id": "mvKzPMzAIqBm"
      },
      "execution_count": 224,
      "outputs": []
    },
    {
      "cell_type": "code",
      "source": [
        "np.shape(trig_test)"
      ],
      "metadata": {
        "colab": {
          "base_uri": "https://localhost:8080/"
        },
        "id": "3SHWzI7Fq1fs",
        "outputId": "2f550e85-96c5-4a60-eff9-fab0e1e279a3"
      },
      "execution_count": 225,
      "outputs": [
        {
          "output_type": "execute_result",
          "data": {
            "text/plain": [
              "(80,)"
            ]
          },
          "metadata": {},
          "execution_count": 225
        }
      ]
    },
    {
      "cell_type": "code",
      "source": [
        "from sklearn.preprocessing import LabelEncoder\n",
        "\n",
        "le = LabelEncoder()\n",
        "trig_train = le.fit_transform(trig_train)\n",
        "trig_test = le.transform(trig_test)\n"
      ],
      "metadata": {
        "id": "0SY0SZSA6FBJ"
      },
      "execution_count": 227,
      "outputs": []
    },
    {
      "cell_type": "code",
      "source": [
        "import torch\n",
        "import torch.nn as nn\n",
        "import torch.optim as optim\n",
        "from torch.utils.data import DataLoader, TensorDataset\n",
        "from sklearn.metrics import accuracy_score\n",
        "import numpy as np\n",
        "\n",
        "# Device config\n",
        "device = torch.device(\"cuda\" if torch.cuda.is_available() else \"cpu\")\n",
        "\n",
        "# Convert your NumPy data to PyTorch tensors\n",
        "X_train_tensor = torch.tensor(X_train_tangent, dtype=torch.float32)\n",
        "# y_train_tensor = torch.tensor(trig_train, dtype=torch.long)\n",
        "X_test_tensor = torch.tensor(X_test_tangent, dtype=torch.float32)\n",
        "# y_test_tensor = torch.tensor(trig_test, dtype=torch.long)\n",
        "\n",
        "y_train_tensor = torch.tensor(trig_train, dtype=torch.long)\n",
        "y_test_tensor = torch.tensor(trig_test, dtype=torch.long)\n",
        "\n",
        "device = torch.device(\"cuda\" if torch.cuda.is_available() else \"cpu\")\n",
        "\n",
        "# Model definition\n",
        "class SPDClassifier(nn.Module):\n",
        "    def __init__(self, input_dim, hidden_dim, dropout_rate, output_dim):\n",
        "        super(SPDClassifier, self).__init__()\n",
        "        self.fc1 = nn.Linear(input_dim, hidden_dim)\n",
        "        self.dropout = nn.Dropout(dropout_rate)\n",
        "        self.fc2 = nn.Linear(hidden_dim, output_dim)\n",
        "\n",
        "    def forward(self, x):\n",
        "        x = torch.relu(self.fc1(x))\n",
        "        x = self.dropout(x)\n",
        "        x = self.fc2(x)\n",
        "        return x\n",
        "\n",
        "# Params to search\n",
        "input_dim = X_train_tensor.shape[1]\n",
        "output_dim = len(np.unique(trig_train))\n",
        "\n",
        "hidden_dims = [64, 128]\n",
        "dropouts = [0.2, 0.3]\n",
        "learning_rates = [1e-2, 1e-3]\n",
        "batch_sizes = [32, 64]\n",
        "epochs = 20  # Use higher if needed\n",
        "\n",
        "best_test_acc = 0.0\n",
        "best_config = {}\n",
        "\n",
        "# Begin grid search\n",
        "for hd in hidden_dims:\n",
        "    for dr in dropouts:\n",
        "        for lr in learning_rates:\n",
        "            for bs in batch_sizes:\n",
        "                print(f\"\\n🔍 Trying config: hidden={hd}, dropout={dr}, lr={lr}, batch={bs}\")\n",
        "\n",
        "                # Create model\n",
        "                model = SPDClassifier(input_dim, hd, dr, output_dim).to(device)\n",
        "                optimizer = optim.Adam(model.parameters(), lr=lr)\n",
        "                criterion = nn.CrossEntropyLoss()\n",
        "                train_loader = DataLoader(TensorDataset(X_train_tensor, y_train_tensor), batch_size=bs, shuffle=True)\n",
        "\n",
        "                for epoch in range(epochs):\n",
        "                    model.train()\n",
        "                    for xb, yb in train_loader:\n",
        "                        xb, yb = xb.to(device), yb.to(device)\n",
        "                        optimizer.zero_grad()\n",
        "                        preds = model(xb)\n",
        "                        loss = criterion(preds, yb)\n",
        "                        loss.backward()\n",
        "                        optimizer.step()\n",
        "\n",
        "                    # Evaluate both train and test accuracy\n",
        "                    model.eval()\n",
        "                    with torch.no_grad():\n",
        "                        train_outputs = model(X_train_tensor.to(device))\n",
        "                        train_preds = torch.argmax(train_outputs, dim=1)\n",
        "                        train_acc = accuracy_score(y_train_tensor.numpy(), train_preds.cpu().numpy())\n",
        "\n",
        "                        test_outputs = model(X_test_tensor.to(device))\n",
        "                        test_preds = torch.argmax(test_outputs, dim=1)\n",
        "                        test_acc = accuracy_score(y_test_tensor.numpy(), test_preds.cpu().numpy())\n",
        "\n",
        "                    print(f\"Epoch {epoch+1}/{epochs} | Train Acc: {train_acc:.4f} | Test Acc: {test_acc:.4f}\")\n",
        "\n",
        "                    # Save best config\n",
        "                    if test_acc > best_test_acc:\n",
        "                        best_test_acc = test_acc\n",
        "                        best_config = {\n",
        "                            'hidden_dim': hd,\n",
        "                            'dropout': dr,\n",
        "                            'learning_rate': lr,\n",
        "                            'batch_size': bs,\n",
        "                            'epoch': epoch + 1,\n",
        "                            'train_acc': train_acc,\n",
        "                            'test_acc': test_acc\n",
        "                        }\n",
        "\n",
        "print(\"\\n Best configuration:\")\n",
        "print(best_config)"
      ],
      "metadata": {
        "id": "28sh909i4fBf",
        "colab": {
          "base_uri": "https://localhost:8080/"
        },
        "outputId": "8a1e75c0-1e8a-4a55-a4ac-881b805ddf2f"
      },
      "execution_count": 228,
      "outputs": [
        {
          "output_type": "stream",
          "name": "stdout",
          "text": [
            "\n",
            "🔍 Trying config: hidden=64, dropout=0.2, lr=0.01, batch=32\n",
            "Epoch 1/20 | Train Acc: 0.9000 | Test Acc: 0.4875\n",
            "Epoch 2/20 | Train Acc: 0.9000 | Test Acc: 0.4875\n",
            "Epoch 3/20 | Train Acc: 0.9250 | Test Acc: 0.4875\n",
            "Epoch 4/20 | Train Acc: 0.9500 | Test Acc: 0.5125\n",
            "Epoch 5/20 | Train Acc: 0.9625 | Test Acc: 0.5250\n",
            "Epoch 6/20 | Train Acc: 0.9875 | Test Acc: 0.5375\n",
            "Epoch 7/20 | Train Acc: 1.0000 | Test Acc: 0.5375\n",
            "Epoch 8/20 | Train Acc: 1.0000 | Test Acc: 0.5750\n",
            "Epoch 9/20 | Train Acc: 1.0000 | Test Acc: 0.5750\n",
            "Epoch 10/20 | Train Acc: 1.0000 | Test Acc: 0.5750\n",
            "Epoch 11/20 | Train Acc: 1.0000 | Test Acc: 0.5750\n",
            "Epoch 12/20 | Train Acc: 1.0000 | Test Acc: 0.6125\n",
            "Epoch 13/20 | Train Acc: 1.0000 | Test Acc: 0.6125\n",
            "Epoch 14/20 | Train Acc: 1.0000 | Test Acc: 0.5875\n",
            "Epoch 15/20 | Train Acc: 1.0000 | Test Acc: 0.5875\n",
            "Epoch 16/20 | Train Acc: 1.0000 | Test Acc: 0.5875\n",
            "Epoch 17/20 | Train Acc: 1.0000 | Test Acc: 0.6000\n",
            "Epoch 18/20 | Train Acc: 1.0000 | Test Acc: 0.6000\n",
            "Epoch 19/20 | Train Acc: 1.0000 | Test Acc: 0.5875\n",
            "Epoch 20/20 | Train Acc: 1.0000 | Test Acc: 0.5875\n",
            "\n",
            "🔍 Trying config: hidden=64, dropout=0.2, lr=0.01, batch=64\n",
            "Epoch 1/20 | Train Acc: 0.8125 | Test Acc: 0.6250\n",
            "Epoch 2/20 | Train Acc: 0.8875 | Test Acc: 0.4750\n",
            "Epoch 3/20 | Train Acc: 0.9125 | Test Acc: 0.4875\n",
            "Epoch 4/20 | Train Acc: 0.9125 | Test Acc: 0.4875\n",
            "Epoch 5/20 | Train Acc: 0.9250 | Test Acc: 0.5125\n",
            "Epoch 6/20 | Train Acc: 0.9500 | Test Acc: 0.5000\n",
            "Epoch 7/20 | Train Acc: 0.9500 | Test Acc: 0.5000\n",
            "Epoch 8/20 | Train Acc: 0.9500 | Test Acc: 0.5000\n",
            "Epoch 9/20 | Train Acc: 0.9750 | Test Acc: 0.5125\n",
            "Epoch 10/20 | Train Acc: 0.9875 | Test Acc: 0.5625\n",
            "Epoch 11/20 | Train Acc: 0.9875 | Test Acc: 0.5625\n",
            "Epoch 12/20 | Train Acc: 1.0000 | Test Acc: 0.5750\n",
            "Epoch 13/20 | Train Acc: 1.0000 | Test Acc: 0.5875\n",
            "Epoch 14/20 | Train Acc: 1.0000 | Test Acc: 0.6000\n",
            "Epoch 15/20 | Train Acc: 1.0000 | Test Acc: 0.6250\n",
            "Epoch 16/20 | Train Acc: 1.0000 | Test Acc: 0.5875\n",
            "Epoch 17/20 | Train Acc: 1.0000 | Test Acc: 0.5500\n",
            "Epoch 18/20 | Train Acc: 1.0000 | Test Acc: 0.5500\n",
            "Epoch 19/20 | Train Acc: 1.0000 | Test Acc: 0.5500\n",
            "Epoch 20/20 | Train Acc: 1.0000 | Test Acc: 0.5500\n",
            "\n",
            "🔍 Trying config: hidden=64, dropout=0.2, lr=0.001, batch=32\n",
            "Epoch 1/20 | Train Acc: 0.5375 | Test Acc: 0.5000\n",
            "Epoch 2/20 | Train Acc: 0.6500 | Test Acc: 0.5000\n",
            "Epoch 3/20 | Train Acc: 0.7000 | Test Acc: 0.5000\n",
            "Epoch 4/20 | Train Acc: 0.7250 | Test Acc: 0.5000\n",
            "Epoch 5/20 | Train Acc: 0.8125 | Test Acc: 0.5000\n",
            "Epoch 6/20 | Train Acc: 0.8500 | Test Acc: 0.5000\n",
            "Epoch 7/20 | Train Acc: 0.8500 | Test Acc: 0.5000\n",
            "Epoch 8/20 | Train Acc: 0.8875 | Test Acc: 0.5000\n",
            "Epoch 9/20 | Train Acc: 0.8875 | Test Acc: 0.5000\n",
            "Epoch 10/20 | Train Acc: 0.9000 | Test Acc: 0.5000\n",
            "Epoch 11/20 | Train Acc: 0.9125 | Test Acc: 0.4875\n",
            "Epoch 12/20 | Train Acc: 0.9125 | Test Acc: 0.4875\n",
            "Epoch 13/20 | Train Acc: 0.9125 | Test Acc: 0.4875\n",
            "Epoch 14/20 | Train Acc: 0.9125 | Test Acc: 0.4875\n",
            "Epoch 15/20 | Train Acc: 0.9250 | Test Acc: 0.4875\n",
            "Epoch 16/20 | Train Acc: 0.9250 | Test Acc: 0.4875\n",
            "Epoch 17/20 | Train Acc: 0.9375 | Test Acc: 0.4875\n",
            "Epoch 18/20 | Train Acc: 0.9375 | Test Acc: 0.4875\n",
            "Epoch 19/20 | Train Acc: 0.9375 | Test Acc: 0.4875\n",
            "Epoch 20/20 | Train Acc: 0.9375 | Test Acc: 0.4875\n",
            "\n",
            "🔍 Trying config: hidden=64, dropout=0.2, lr=0.001, batch=64\n",
            "Epoch 1/20 | Train Acc: 0.5375 | Test Acc: 0.5000\n",
            "Epoch 2/20 | Train Acc: 0.6500 | Test Acc: 0.5375\n",
            "Epoch 3/20 | Train Acc: 0.7375 | Test Acc: 0.5250\n",
            "Epoch 4/20 | Train Acc: 0.7875 | Test Acc: 0.5500\n",
            "Epoch 5/20 | Train Acc: 0.8125 | Test Acc: 0.5875\n",
            "Epoch 6/20 | Train Acc: 0.8500 | Test Acc: 0.5875\n",
            "Epoch 7/20 | Train Acc: 0.9000 | Test Acc: 0.5625\n",
            "Epoch 8/20 | Train Acc: 0.9250 | Test Acc: 0.5625\n",
            "Epoch 9/20 | Train Acc: 0.9250 | Test Acc: 0.5625\n",
            "Epoch 10/20 | Train Acc: 0.9250 | Test Acc: 0.5750\n",
            "Epoch 11/20 | Train Acc: 0.9375 | Test Acc: 0.5750\n",
            "Epoch 12/20 | Train Acc: 0.9375 | Test Acc: 0.5625\n",
            "Epoch 13/20 | Train Acc: 0.9375 | Test Acc: 0.5625\n",
            "Epoch 14/20 | Train Acc: 0.9375 | Test Acc: 0.5625\n",
            "Epoch 15/20 | Train Acc: 0.9375 | Test Acc: 0.5625\n",
            "Epoch 16/20 | Train Acc: 0.9375 | Test Acc: 0.5500\n",
            "Epoch 17/20 | Train Acc: 0.9375 | Test Acc: 0.5375\n",
            "Epoch 18/20 | Train Acc: 0.9500 | Test Acc: 0.5375\n",
            "Epoch 19/20 | Train Acc: 0.9500 | Test Acc: 0.5375\n",
            "Epoch 20/20 | Train Acc: 0.9500 | Test Acc: 0.5375\n",
            "\n",
            "🔍 Trying config: hidden=64, dropout=0.3, lr=0.01, batch=32\n",
            "Epoch 1/20 | Train Acc: 0.7500 | Test Acc: 0.6625\n",
            "Epoch 2/20 | Train Acc: 0.9000 | Test Acc: 0.5250\n",
            "Epoch 3/20 | Train Acc: 0.9250 | Test Acc: 0.5250\n",
            "Epoch 4/20 | Train Acc: 0.9500 | Test Acc: 0.5250\n",
            "Epoch 5/20 | Train Acc: 0.9500 | Test Acc: 0.5125\n",
            "Epoch 6/20 | Train Acc: 0.9750 | Test Acc: 0.5500\n",
            "Epoch 7/20 | Train Acc: 0.9875 | Test Acc: 0.5750\n",
            "Epoch 8/20 | Train Acc: 1.0000 | Test Acc: 0.5750\n",
            "Epoch 9/20 | Train Acc: 1.0000 | Test Acc: 0.6250\n",
            "Epoch 10/20 | Train Acc: 1.0000 | Test Acc: 0.6125\n",
            "Epoch 11/20 | Train Acc: 1.0000 | Test Acc: 0.6000\n",
            "Epoch 12/20 | Train Acc: 1.0000 | Test Acc: 0.5625\n",
            "Epoch 13/20 | Train Acc: 1.0000 | Test Acc: 0.5750\n",
            "Epoch 14/20 | Train Acc: 1.0000 | Test Acc: 0.5750\n",
            "Epoch 15/20 | Train Acc: 1.0000 | Test Acc: 0.5750\n",
            "Epoch 16/20 | Train Acc: 1.0000 | Test Acc: 0.5625\n",
            "Epoch 17/20 | Train Acc: 1.0000 | Test Acc: 0.5750\n",
            "Epoch 18/20 | Train Acc: 1.0000 | Test Acc: 0.5750\n",
            "Epoch 19/20 | Train Acc: 1.0000 | Test Acc: 0.5875\n",
            "Epoch 20/20 | Train Acc: 1.0000 | Test Acc: 0.5875\n",
            "\n",
            "🔍 Trying config: hidden=64, dropout=0.3, lr=0.01, batch=64\n",
            "Epoch 1/20 | Train Acc: 0.8125 | Test Acc: 0.6250\n",
            "Epoch 2/20 | Train Acc: 0.8125 | Test Acc: 0.5000\n",
            "Epoch 3/20 | Train Acc: 0.8625 | Test Acc: 0.4875\n",
            "Epoch 4/20 | Train Acc: 0.8750 | Test Acc: 0.4875\n",
            "Epoch 5/20 | Train Acc: 0.8875 | Test Acc: 0.4875\n",
            "Epoch 6/20 | Train Acc: 0.9375 | Test Acc: 0.4875\n",
            "Epoch 7/20 | Train Acc: 0.9750 | Test Acc: 0.5000\n",
            "Epoch 8/20 | Train Acc: 0.9875 | Test Acc: 0.5375\n",
            "Epoch 9/20 | Train Acc: 0.9875 | Test Acc: 0.5500\n",
            "Epoch 10/20 | Train Acc: 1.0000 | Test Acc: 0.5750\n",
            "Epoch 11/20 | Train Acc: 1.0000 | Test Acc: 0.5500\n",
            "Epoch 12/20 | Train Acc: 1.0000 | Test Acc: 0.5625\n",
            "Epoch 13/20 | Train Acc: 1.0000 | Test Acc: 0.5875\n",
            "Epoch 14/20 | Train Acc: 1.0000 | Test Acc: 0.6125\n",
            "Epoch 15/20 | Train Acc: 1.0000 | Test Acc: 0.6125\n",
            "Epoch 16/20 | Train Acc: 1.0000 | Test Acc: 0.6000\n",
            "Epoch 17/20 | Train Acc: 1.0000 | Test Acc: 0.6250\n",
            "Epoch 18/20 | Train Acc: 1.0000 | Test Acc: 0.6250\n",
            "Epoch 19/20 | Train Acc: 1.0000 | Test Acc: 0.6125\n",
            "Epoch 20/20 | Train Acc: 1.0000 | Test Acc: 0.6000\n",
            "\n",
            "🔍 Trying config: hidden=64, dropout=0.3, lr=0.001, batch=32\n",
            "Epoch 1/20 | Train Acc: 0.5000 | Test Acc: 0.5000\n",
            "Epoch 2/20 | Train Acc: 0.5000 | Test Acc: 0.5000\n",
            "Epoch 3/20 | Train Acc: 0.5125 | Test Acc: 0.5000\n",
            "Epoch 4/20 | Train Acc: 0.5875 | Test Acc: 0.5000\n",
            "Epoch 5/20 | Train Acc: 0.6750 | Test Acc: 0.5125\n",
            "Epoch 6/20 | Train Acc: 0.7125 | Test Acc: 0.5125\n",
            "Epoch 7/20 | Train Acc: 0.7875 | Test Acc: 0.5250\n",
            "Epoch 8/20 | Train Acc: 0.8125 | Test Acc: 0.5375\n",
            "Epoch 9/20 | Train Acc: 0.8250 | Test Acc: 0.5250\n",
            "Epoch 10/20 | Train Acc: 0.8500 | Test Acc: 0.5375\n",
            "Epoch 11/20 | Train Acc: 0.8750 | Test Acc: 0.5375\n",
            "Epoch 12/20 | Train Acc: 0.9000 | Test Acc: 0.5500\n",
            "Epoch 13/20 | Train Acc: 0.8750 | Test Acc: 0.5500\n",
            "Epoch 14/20 | Train Acc: 0.8750 | Test Acc: 0.5500\n",
            "Epoch 15/20 | Train Acc: 0.8875 | Test Acc: 0.5500\n",
            "Epoch 16/20 | Train Acc: 0.9000 | Test Acc: 0.5500\n",
            "Epoch 17/20 | Train Acc: 0.9000 | Test Acc: 0.5500\n",
            "Epoch 18/20 | Train Acc: 0.9000 | Test Acc: 0.5500\n",
            "Epoch 19/20 | Train Acc: 0.9125 | Test Acc: 0.5500\n",
            "Epoch 20/20 | Train Acc: 0.9250 | Test Acc: 0.5500\n",
            "\n",
            "🔍 Trying config: hidden=64, dropout=0.3, lr=0.001, batch=64\n",
            "Epoch 1/20 | Train Acc: 0.5000 | Test Acc: 0.5000\n",
            "Epoch 2/20 | Train Acc: 0.6250 | Test Acc: 0.5000\n",
            "Epoch 3/20 | Train Acc: 0.6875 | Test Acc: 0.5000\n",
            "Epoch 4/20 | Train Acc: 0.7500 | Test Acc: 0.5000\n",
            "Epoch 5/20 | Train Acc: 0.7500 | Test Acc: 0.5000\n",
            "Epoch 6/20 | Train Acc: 0.8000 | Test Acc: 0.5000\n",
            "Epoch 7/20 | Train Acc: 0.8375 | Test Acc: 0.5000\n",
            "Epoch 8/20 | Train Acc: 0.8375 | Test Acc: 0.5000\n",
            "Epoch 9/20 | Train Acc: 0.8375 | Test Acc: 0.5000\n",
            "Epoch 10/20 | Train Acc: 0.8625 | Test Acc: 0.5000\n",
            "Epoch 11/20 | Train Acc: 0.8875 | Test Acc: 0.5000\n",
            "Epoch 12/20 | Train Acc: 0.9000 | Test Acc: 0.5000\n",
            "Epoch 13/20 | Train Acc: 0.9000 | Test Acc: 0.5000\n",
            "Epoch 14/20 | Train Acc: 0.9000 | Test Acc: 0.5000\n",
            "Epoch 15/20 | Train Acc: 0.9000 | Test Acc: 0.5000\n",
            "Epoch 16/20 | Train Acc: 0.8875 | Test Acc: 0.5000\n",
            "Epoch 17/20 | Train Acc: 0.8875 | Test Acc: 0.5000\n",
            "Epoch 18/20 | Train Acc: 0.8875 | Test Acc: 0.5000\n",
            "Epoch 19/20 | Train Acc: 0.9000 | Test Acc: 0.5000\n",
            "Epoch 20/20 | Train Acc: 0.9125 | Test Acc: 0.5000\n",
            "\n",
            "🔍 Trying config: hidden=128, dropout=0.2, lr=0.01, batch=32\n",
            "Epoch 1/20 | Train Acc: 0.8875 | Test Acc: 0.4875\n",
            "Epoch 2/20 | Train Acc: 0.9250 | Test Acc: 0.5375\n",
            "Epoch 3/20 | Train Acc: 0.9625 | Test Acc: 0.5375\n",
            "Epoch 4/20 | Train Acc: 0.9625 | Test Acc: 0.5375\n",
            "Epoch 5/20 | Train Acc: 0.9875 | Test Acc: 0.5125\n",
            "Epoch 6/20 | Train Acc: 1.0000 | Test Acc: 0.5375\n",
            "Epoch 7/20 | Train Acc: 1.0000 | Test Acc: 0.5750\n",
            "Epoch 8/20 | Train Acc: 1.0000 | Test Acc: 0.5875\n",
            "Epoch 9/20 | Train Acc: 1.0000 | Test Acc: 0.5625\n",
            "Epoch 10/20 | Train Acc: 1.0000 | Test Acc: 0.5625\n",
            "Epoch 11/20 | Train Acc: 1.0000 | Test Acc: 0.6000\n",
            "Epoch 12/20 | Train Acc: 1.0000 | Test Acc: 0.6000\n",
            "Epoch 13/20 | Train Acc: 1.0000 | Test Acc: 0.6000\n",
            "Epoch 14/20 | Train Acc: 1.0000 | Test Acc: 0.5875\n",
            "Epoch 15/20 | Train Acc: 1.0000 | Test Acc: 0.5875\n",
            "Epoch 16/20 | Train Acc: 1.0000 | Test Acc: 0.6000\n",
            "Epoch 17/20 | Train Acc: 1.0000 | Test Acc: 0.5875\n",
            "Epoch 18/20 | Train Acc: 1.0000 | Test Acc: 0.5875\n",
            "Epoch 19/20 | Train Acc: 1.0000 | Test Acc: 0.5875\n",
            "Epoch 20/20 | Train Acc: 1.0000 | Test Acc: 0.5875\n",
            "\n",
            "🔍 Trying config: hidden=128, dropout=0.2, lr=0.01, batch=64\n",
            "Epoch 1/20 | Train Acc: 0.8625 | Test Acc: 0.5000\n",
            "Epoch 2/20 | Train Acc: 0.8875 | Test Acc: 0.5000\n",
            "Epoch 3/20 | Train Acc: 0.9125 | Test Acc: 0.4875\n",
            "Epoch 4/20 | Train Acc: 0.9500 | Test Acc: 0.4875\n",
            "Epoch 5/20 | Train Acc: 0.9500 | Test Acc: 0.5125\n",
            "Epoch 6/20 | Train Acc: 0.9625 | Test Acc: 0.5375\n",
            "Epoch 7/20 | Train Acc: 0.9750 | Test Acc: 0.5500\n",
            "Epoch 8/20 | Train Acc: 0.9875 | Test Acc: 0.5750\n",
            "Epoch 9/20 | Train Acc: 1.0000 | Test Acc: 0.5875\n",
            "Epoch 10/20 | Train Acc: 1.0000 | Test Acc: 0.5750\n",
            "Epoch 11/20 | Train Acc: 1.0000 | Test Acc: 0.5875\n",
            "Epoch 12/20 | Train Acc: 1.0000 | Test Acc: 0.6000\n",
            "Epoch 13/20 | Train Acc: 1.0000 | Test Acc: 0.6000\n",
            "Epoch 14/20 | Train Acc: 1.0000 | Test Acc: 0.6125\n",
            "Epoch 15/20 | Train Acc: 1.0000 | Test Acc: 0.6125\n",
            "Epoch 16/20 | Train Acc: 1.0000 | Test Acc: 0.6125\n",
            "Epoch 17/20 | Train Acc: 1.0000 | Test Acc: 0.6000\n",
            "Epoch 18/20 | Train Acc: 1.0000 | Test Acc: 0.6125\n",
            "Epoch 19/20 | Train Acc: 1.0000 | Test Acc: 0.6250\n",
            "Epoch 20/20 | Train Acc: 1.0000 | Test Acc: 0.6000\n",
            "\n",
            "🔍 Trying config: hidden=128, dropout=0.2, lr=0.001, batch=32\n",
            "Epoch 1/20 | Train Acc: 0.5750 | Test Acc: 0.6000\n",
            "Epoch 2/20 | Train Acc: 0.8000 | Test Acc: 0.5625\n",
            "Epoch 3/20 | Train Acc: 0.8375 | Test Acc: 0.5750\n",
            "Epoch 4/20 | Train Acc: 0.8875 | Test Acc: 0.5625\n",
            "Epoch 5/20 | Train Acc: 0.9250 | Test Acc: 0.5375\n",
            "Epoch 6/20 | Train Acc: 0.9500 | Test Acc: 0.5125\n",
            "Epoch 7/20 | Train Acc: 0.9375 | Test Acc: 0.5125\n",
            "Epoch 8/20 | Train Acc: 0.9375 | Test Acc: 0.5125\n",
            "Epoch 9/20 | Train Acc: 0.9250 | Test Acc: 0.5125\n",
            "Epoch 10/20 | Train Acc: 0.9250 | Test Acc: 0.5125\n",
            "Epoch 11/20 | Train Acc: 0.9250 | Test Acc: 0.5125\n",
            "Epoch 12/20 | Train Acc: 0.9250 | Test Acc: 0.5250\n",
            "Epoch 13/20 | Train Acc: 0.9375 | Test Acc: 0.5250\n",
            "Epoch 14/20 | Train Acc: 0.9375 | Test Acc: 0.5250\n",
            "Epoch 15/20 | Train Acc: 0.9375 | Test Acc: 0.5125\n",
            "Epoch 16/20 | Train Acc: 0.9375 | Test Acc: 0.5250\n",
            "Epoch 17/20 | Train Acc: 0.9375 | Test Acc: 0.5250\n",
            "Epoch 18/20 | Train Acc: 0.9500 | Test Acc: 0.5250\n",
            "Epoch 19/20 | Train Acc: 0.9500 | Test Acc: 0.5125\n",
            "Epoch 20/20 | Train Acc: 0.9625 | Test Acc: 0.5125\n",
            "\n",
            "🔍 Trying config: hidden=128, dropout=0.2, lr=0.001, batch=64\n",
            "Epoch 1/20 | Train Acc: 0.6250 | Test Acc: 0.5000\n",
            "Epoch 2/20 | Train Acc: 0.7750 | Test Acc: 0.5000\n",
            "Epoch 3/20 | Train Acc: 0.7875 | Test Acc: 0.5000\n",
            "Epoch 4/20 | Train Acc: 0.8625 | Test Acc: 0.4875\n",
            "Epoch 5/20 | Train Acc: 0.8625 | Test Acc: 0.4875\n",
            "Epoch 6/20 | Train Acc: 0.9000 | Test Acc: 0.4875\n",
            "Epoch 7/20 | Train Acc: 0.9000 | Test Acc: 0.4875\n",
            "Epoch 8/20 | Train Acc: 0.8875 | Test Acc: 0.4875\n",
            "Epoch 9/20 | Train Acc: 0.9000 | Test Acc: 0.4875\n",
            "Epoch 10/20 | Train Acc: 0.9000 | Test Acc: 0.4875\n",
            "Epoch 11/20 | Train Acc: 0.9000 | Test Acc: 0.4875\n",
            "Epoch 12/20 | Train Acc: 0.9000 | Test Acc: 0.4875\n",
            "Epoch 13/20 | Train Acc: 0.9000 | Test Acc: 0.4875\n",
            "Epoch 14/20 | Train Acc: 0.9000 | Test Acc: 0.4875\n",
            "Epoch 15/20 | Train Acc: 0.9000 | Test Acc: 0.4875\n",
            "Epoch 16/20 | Train Acc: 0.9000 | Test Acc: 0.4875\n",
            "Epoch 17/20 | Train Acc: 0.9000 | Test Acc: 0.4875\n",
            "Epoch 18/20 | Train Acc: 0.9000 | Test Acc: 0.4875\n",
            "Epoch 19/20 | Train Acc: 0.9000 | Test Acc: 0.4875\n",
            "Epoch 20/20 | Train Acc: 0.9000 | Test Acc: 0.4875\n",
            "\n",
            "🔍 Trying config: hidden=128, dropout=0.3, lr=0.01, batch=32\n",
            "Epoch 1/20 | Train Acc: 0.8875 | Test Acc: 0.4875\n",
            "Epoch 2/20 | Train Acc: 0.9125 | Test Acc: 0.5250\n",
            "Epoch 3/20 | Train Acc: 0.9250 | Test Acc: 0.5250\n",
            "Epoch 4/20 | Train Acc: 0.9375 | Test Acc: 0.5250\n",
            "Epoch 5/20 | Train Acc: 1.0000 | Test Acc: 0.5750\n",
            "Epoch 6/20 | Train Acc: 1.0000 | Test Acc: 0.6000\n",
            "Epoch 7/20 | Train Acc: 1.0000 | Test Acc: 0.6000\n",
            "Epoch 8/20 | Train Acc: 1.0000 | Test Acc: 0.6125\n",
            "Epoch 9/20 | Train Acc: 1.0000 | Test Acc: 0.6000\n",
            "Epoch 10/20 | Train Acc: 1.0000 | Test Acc: 0.5875\n",
            "Epoch 11/20 | Train Acc: 1.0000 | Test Acc: 0.6000\n",
            "Epoch 12/20 | Train Acc: 1.0000 | Test Acc: 0.6000\n",
            "Epoch 13/20 | Train Acc: 1.0000 | Test Acc: 0.5875\n",
            "Epoch 14/20 | Train Acc: 1.0000 | Test Acc: 0.5875\n",
            "Epoch 15/20 | Train Acc: 1.0000 | Test Acc: 0.5750\n",
            "Epoch 16/20 | Train Acc: 1.0000 | Test Acc: 0.5750\n",
            "Epoch 17/20 | Train Acc: 1.0000 | Test Acc: 0.5875\n",
            "Epoch 18/20 | Train Acc: 1.0000 | Test Acc: 0.5875\n",
            "Epoch 19/20 | Train Acc: 1.0000 | Test Acc: 0.5750\n",
            "Epoch 20/20 | Train Acc: 1.0000 | Test Acc: 0.5750\n",
            "\n",
            "🔍 Trying config: hidden=128, dropout=0.3, lr=0.01, batch=64\n",
            "Epoch 1/20 | Train Acc: 0.8875 | Test Acc: 0.4875\n",
            "Epoch 2/20 | Train Acc: 0.9125 | Test Acc: 0.4875\n",
            "Epoch 3/20 | Train Acc: 0.9375 | Test Acc: 0.5125\n",
            "Epoch 4/20 | Train Acc: 0.9625 | Test Acc: 0.5125\n",
            "Epoch 5/20 | Train Acc: 0.9625 | Test Acc: 0.5125\n",
            "Epoch 6/20 | Train Acc: 0.9875 | Test Acc: 0.5250\n",
            "Epoch 7/20 | Train Acc: 0.9875 | Test Acc: 0.5125\n",
            "Epoch 8/20 | Train Acc: 0.9875 | Test Acc: 0.5500\n",
            "Epoch 9/20 | Train Acc: 1.0000 | Test Acc: 0.5750\n",
            "Epoch 10/20 | Train Acc: 1.0000 | Test Acc: 0.5750\n",
            "Epoch 11/20 | Train Acc: 1.0000 | Test Acc: 0.5625\n",
            "Epoch 12/20 | Train Acc: 1.0000 | Test Acc: 0.6000\n",
            "Epoch 13/20 | Train Acc: 1.0000 | Test Acc: 0.6125\n",
            "Epoch 14/20 | Train Acc: 1.0000 | Test Acc: 0.6125\n",
            "Epoch 15/20 | Train Acc: 1.0000 | Test Acc: 0.6125\n",
            "Epoch 16/20 | Train Acc: 1.0000 | Test Acc: 0.6125\n",
            "Epoch 17/20 | Train Acc: 1.0000 | Test Acc: 0.6125\n",
            "Epoch 18/20 | Train Acc: 1.0000 | Test Acc: 0.6125\n",
            "Epoch 19/20 | Train Acc: 1.0000 | Test Acc: 0.6125\n",
            "Epoch 20/20 | Train Acc: 1.0000 | Test Acc: 0.6125\n",
            "\n",
            "🔍 Trying config: hidden=128, dropout=0.3, lr=0.001, batch=32\n",
            "Epoch 1/20 | Train Acc: 0.6750 | Test Acc: 0.5000\n",
            "Epoch 2/20 | Train Acc: 0.7875 | Test Acc: 0.5000\n",
            "Epoch 3/20 | Train Acc: 0.8125 | Test Acc: 0.5500\n",
            "Epoch 4/20 | Train Acc: 0.8625 | Test Acc: 0.6000\n",
            "Epoch 5/20 | Train Acc: 0.8625 | Test Acc: 0.5750\n",
            "Epoch 6/20 | Train Acc: 0.8500 | Test Acc: 0.6125\n",
            "Epoch 7/20 | Train Acc: 0.8750 | Test Acc: 0.6125\n",
            "Epoch 8/20 | Train Acc: 0.8875 | Test Acc: 0.5750\n",
            "Epoch 9/20 | Train Acc: 0.8750 | Test Acc: 0.5750\n",
            "Epoch 10/20 | Train Acc: 0.9000 | Test Acc: 0.5750\n",
            "Epoch 11/20 | Train Acc: 0.9000 | Test Acc: 0.5625\n",
            "Epoch 12/20 | Train Acc: 0.9375 | Test Acc: 0.6125\n",
            "Epoch 13/20 | Train Acc: 0.9375 | Test Acc: 0.6000\n",
            "Epoch 14/20 | Train Acc: 0.9375 | Test Acc: 0.6000\n",
            "Epoch 15/20 | Train Acc: 0.9250 | Test Acc: 0.5625\n",
            "Epoch 16/20 | Train Acc: 0.9250 | Test Acc: 0.5250\n",
            "Epoch 17/20 | Train Acc: 0.9250 | Test Acc: 0.5250\n",
            "Epoch 18/20 | Train Acc: 0.9250 | Test Acc: 0.5000\n",
            "Epoch 19/20 | Train Acc: 0.9375 | Test Acc: 0.5000\n",
            "Epoch 20/20 | Train Acc: 0.9500 | Test Acc: 0.5125\n",
            "\n",
            "🔍 Trying config: hidden=128, dropout=0.3, lr=0.001, batch=64\n",
            "Epoch 1/20 | Train Acc: 0.7500 | Test Acc: 0.6500\n",
            "Epoch 2/20 | Train Acc: 0.8750 | Test Acc: 0.6875\n",
            "Epoch 3/20 | Train Acc: 0.9250 | Test Acc: 0.6500\n",
            "Epoch 4/20 | Train Acc: 0.9000 | Test Acc: 0.6875\n",
            "Epoch 5/20 | Train Acc: 0.8875 | Test Acc: 0.6625\n",
            "Epoch 6/20 | Train Acc: 0.8875 | Test Acc: 0.6375\n",
            "Epoch 7/20 | Train Acc: 0.8750 | Test Acc: 0.5750\n",
            "Epoch 8/20 | Train Acc: 0.9125 | Test Acc: 0.5500\n",
            "Epoch 9/20 | Train Acc: 0.9125 | Test Acc: 0.5375\n",
            "Epoch 10/20 | Train Acc: 0.9125 | Test Acc: 0.5000\n",
            "Epoch 11/20 | Train Acc: 0.9125 | Test Acc: 0.5000\n",
            "Epoch 12/20 | Train Acc: 0.9250 | Test Acc: 0.5000\n",
            "Epoch 13/20 | Train Acc: 0.9250 | Test Acc: 0.5000\n",
            "Epoch 14/20 | Train Acc: 0.9250 | Test Acc: 0.5000\n",
            "Epoch 15/20 | Train Acc: 0.9250 | Test Acc: 0.5000\n",
            "Epoch 16/20 | Train Acc: 0.9250 | Test Acc: 0.5000\n",
            "Epoch 17/20 | Train Acc: 0.9250 | Test Acc: 0.5000\n",
            "Epoch 18/20 | Train Acc: 0.9250 | Test Acc: 0.5000\n",
            "Epoch 19/20 | Train Acc: 0.9250 | Test Acc: 0.5125\n",
            "Epoch 20/20 | Train Acc: 0.9250 | Test Acc: 0.5125\n",
            "\n",
            " Best configuration:\n",
            "{'hidden_dim': 128, 'dropout': 0.3, 'learning_rate': 0.001, 'batch_size': 64, 'epoch': 2, 'train_acc': 0.875, 'test_acc': 0.6875}\n"
          ]
        }
      ]
    }
  ]
}